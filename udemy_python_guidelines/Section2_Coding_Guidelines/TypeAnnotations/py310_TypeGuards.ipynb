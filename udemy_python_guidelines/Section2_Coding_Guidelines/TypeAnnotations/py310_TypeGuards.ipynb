{
 "cells": [
  {
   "cell_type": "code",
   "execution_count": 32,
   "metadata": {},
   "outputs": [],
   "source": [
    "from typing import TypeGuard"
   ]
  },
  {
   "cell_type": "code",
   "execution_count": 33,
   "metadata": {},
   "outputs": [],
   "source": [
    "def is_str_list_old(lst: list[object]) -> bool:\n",
    "    return all(isinstance(s, str) for s in lst)"
   ]
  },
  {
   "cell_type": "code",
   "execution_count": 34,
   "metadata": {},
   "outputs": [],
   "source": [
    "def is_int_list_old(lst: list[object]) -> bool:\n",
    "    return all(isinstance(s, int) for s in lst)"
   ]
  },
  {
   "cell_type": "code",
   "execution_count": 35,
   "metadata": {},
   "outputs": [],
   "source": [
    "def try_print_list_old(\n",
    "    lst: list[object],\n",
    ") -> None:\n",
    "    if is_str_list_old(lst):\n",
    "        print(f\"lst str: {lst}\")\n",
    "    elif is_int_list_old(lst):\n",
    "        print(f\"lst int: {lst}\")"
   ]
  },
  {
   "cell_type": "code",
   "execution_count": 36,
   "metadata": {},
   "outputs": [
    {
     "name": "stdout",
     "output_type": "stream",
     "text": [
      "lst str: ['1', '2']\n"
     ]
    }
   ],
   "source": [
    "try_print_list_old([\"1\", \"2\"])\n",
    "try_print_list_old([1, 2])"
   ]
  },
  {
   "cell_type": "markdown",
   "metadata": {},
   "source": [
    "^ Before 3.10\n",
    "\n",
    "#### TypeGuard\n",
    "\n",
    "v Since 3.10\n"
   ]
  },
  {
   "cell_type": "code",
   "execution_count": 37,
   "metadata": {},
   "outputs": [],
   "source": [
    "def is_str_list(\n",
    "    lst: list[object],\n",
    ") -> TypeGuard[list[str]]:\n",
    "    return all(isinstance(s, str) for s in lst)"
   ]
  },
  {
   "cell_type": "code",
   "execution_count": null,
   "metadata": {},
   "outputs": [],
   "source": [
    "def is_int_list(\n",
    "    lst: list[object],\n",
    ") -> TypeGuard[list[int]]:\n",
    "    return all(isinstance(s, int) for s in lst)"
   ]
  },
  {
   "cell_type": "code",
   "execution_count": 38,
   "metadata": {},
   "outputs": [],
   "source": [
    "def try_print_list(\n",
    "    lst: list[object],\n",
    ") -> None:\n",
    "    if is_str_list(lst):\n",
    "        print(f\"lst str: {lst}\")\n",
    "    elif is_int_list(lst):\n",
    "        print(f\"lst int: {lst}\")"
   ]
  },
  {
   "cell_type": "code",
   "execution_count": 39,
   "metadata": {},
   "outputs": [
    {
     "name": "stdout",
     "output_type": "stream",
     "text": [
      "['1', '2']\n"
     ]
    }
   ],
   "source": [
    "try_print_list([\"1\", \"2\"])"
   ]
  }
 ],
 "metadata": {
  "kernelspec": {
   "display_name": "tensorflow",
   "language": "python",
   "name": "python3"
  },
  "language_info": {
   "codemirror_mode": {
    "name": "ipython",
    "version": 3
   },
   "file_extension": ".py",
   "mimetype": "text/x-python",
   "name": "python",
   "nbconvert_exporter": "python",
   "pygments_lexer": "ipython3",
   "version": "3.11.5"
  },
  "orig_nbformat": 4,
  "vscode": {
   "interpreter": {
    "hash": "4a530a401827db55b3b32bddb74ef9c27b80cabc6fe7a20ea91ce98fce4eade3"
   }
  }
 },
 "nbformat": 4,
 "nbformat_minor": 2
}
